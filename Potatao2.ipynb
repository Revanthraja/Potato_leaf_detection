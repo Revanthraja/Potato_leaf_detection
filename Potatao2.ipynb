{
 "cells": [
  {
   "cell_type": "code",
   "execution_count": 2,
   "id": "58a81d70",
   "metadata": {},
   "outputs": [],
   "source": [
    "import numpy as np\n",
    "import matplotlib.pyplot as plt\n",
    "from tensorflow.keras.layers import *\n",
    "from tensorflow.keras.models import Sequential,load_model\n",
    "from tensorflow.keras.preprocessing.image import ImageDataGenerator"
   ]
  },
  {
   "cell_type": "code",
   "execution_count": 3,
   "id": "666f5fcd",
   "metadata": {},
   "outputs": [
    {
     "name": "stdout",
     "output_type": "stream",
     "text": [
      "Found 3251 images belonging to 3 classes.\n"
     ]
    }
   ],
   "source": [
    "train_datagen=ImageDataGenerator(rescale=1.255,\n",
    "                                shear_range=0.2,\n",
    "                                zoom_range=0.2,\n",
    "                                horizontal_flip=True)\n",
    "train_set=train_datagen.flow_from_directory('potatoleaf',target_size=(64,64),\n",
    "                                           batch_size=32,\n",
    "                                           class_mode='categorical')"
   ]
  },
  {
   "cell_type": "code",
   "execution_count": 4,
   "id": "6966183c",
   "metadata": {},
   "outputs": [
    {
     "name": "stdout",
     "output_type": "stream",
     "text": [
      "Found 85 images belonging to 3 classes.\n"
     ]
    }
   ],
   "source": [
    "test_datagen=ImageDataGenerator(rescale=1.255)\n",
    "test_set=train_datagen.flow_from_directory('test',target_size=(64,64),\n",
    "                                           batch_size=32,\n",
    "                                           class_mode='categorical')"
   ]
  },
  {
   "cell_type": "code",
   "execution_count": 12,
   "id": "9958c2c3",
   "metadata": {},
   "outputs": [],
   "source": [
    "model=Sequential()"
   ]
  },
  {
   "cell_type": "code",
   "execution_count": 13,
   "id": "e5e393be",
   "metadata": {},
   "outputs": [],
   "source": [
    "model.add(Conv2D(64,(3,3),activation='relu',input_shape=[64,64,3]))\n",
    "model.add(MaxPool2D(2,2))\n"
   ]
  },
  {
   "cell_type": "code",
   "execution_count": 14,
   "id": "685da1f4",
   "metadata": {},
   "outputs": [],
   "source": [
    "model.add(Conv2D(128,(3,3),activation='relu'))\n",
    "model.add(MaxPooling2D(2,2))\n",
    "model.add(Conv2D(128,(3,3),activation='relu'))\n",
    "model.add(MaxPooling2D(2,2))\n",
    "model.add(Conv2D(256,(3,3),activation='relu'))\n",
    "model.add(MaxPooling2D(2,2))\n"
   ]
  },
  {
   "cell_type": "code",
   "execution_count": 15,
   "id": "e3a748b0",
   "metadata": {},
   "outputs": [],
   "source": [
    "model.add(Dropout(0.5))\n",
    "model.add(Flatten())"
   ]
  },
  {
   "cell_type": "code",
   "execution_count": 16,
   "id": "8b0fa9cd",
   "metadata": {},
   "outputs": [],
   "source": [
    "model.add(Dense(512,activation='relu'))\n",
    "model.add(Dropout(0.25))\n",
    "model.add(Dense(256,activation='relu'))\n",
    "model.add(Dropout(0.25))\n",
    "model.add(Dense(256,activation='relu'))\n",
    "model.add(Dropout(0.25))\n",
    "model.add(Dense(128,activation='relu'))\n",
    "model.add(Dropout(0.25))\n",
    "model.add(Dense(128,activation='relu'))\n",
    "model.add(Dropout(0.25))\n",
    "model.add(Dense(64,activation='relu'))"
   ]
  },
  {
   "cell_type": "code",
   "execution_count": 17,
   "id": "79d5f193",
   "metadata": {},
   "outputs": [],
   "source": [
    "model.add(Dense(3,activation='softmax'))"
   ]
  },
  {
   "cell_type": "code",
   "execution_count": 18,
   "id": "ab8bdc18",
   "metadata": {},
   "outputs": [],
   "source": [
    "model.compile(optimizer='adam',loss='categorical_crossentropy',metrics=['accuracy'])"
   ]
  },
  {
   "cell_type": "code",
   "execution_count": 19,
   "id": "c4b89caa",
   "metadata": {},
   "outputs": [
    {
     "name": "stdout",
     "output_type": "stream",
     "text": [
      "Model: \"sequential_1\"\n",
      "_________________________________________________________________\n",
      " Layer (type)                Output Shape              Param #   \n",
      "=================================================================\n",
      " conv2d_6 (Conv2D)           (None, 62, 62, 64)        1792      \n",
      "                                                                 \n",
      " max_pooling2d_4 (MaxPooling  (None, 31, 31, 64)       0         \n",
      " 2D)                                                             \n",
      "                                                                 \n",
      " conv2d_7 (Conv2D)           (None, 29, 29, 128)       73856     \n",
      "                                                                 \n",
      " max_pooling2d_5 (MaxPooling  (None, 14, 14, 128)      0         \n",
      " 2D)                                                             \n",
      "                                                                 \n",
      " conv2d_8 (Conv2D)           (None, 12, 12, 128)       147584    \n",
      "                                                                 \n",
      " max_pooling2d_6 (MaxPooling  (None, 6, 6, 128)        0         \n",
      " 2D)                                                             \n",
      "                                                                 \n",
      " conv2d_9 (Conv2D)           (None, 4, 4, 256)         295168    \n",
      "                                                                 \n",
      " max_pooling2d_7 (MaxPooling  (None, 2, 2, 256)        0         \n",
      " 2D)                                                             \n",
      "                                                                 \n",
      " dropout (Dropout)           (None, 2, 2, 256)         0         \n",
      "                                                                 \n",
      " flatten (Flatten)           (None, 1024)              0         \n",
      "                                                                 \n",
      " dense (Dense)               (None, 512)               524800    \n",
      "                                                                 \n",
      " dropout_1 (Dropout)         (None, 512)               0         \n",
      "                                                                 \n",
      " dense_1 (Dense)             (None, 256)               131328    \n",
      "                                                                 \n",
      " dropout_2 (Dropout)         (None, 256)               0         \n",
      "                                                                 \n",
      " dense_2 (Dense)             (None, 256)               65792     \n",
      "                                                                 \n",
      " dropout_3 (Dropout)         (None, 256)               0         \n",
      "                                                                 \n",
      " dense_3 (Dense)             (None, 128)               32896     \n",
      "                                                                 \n",
      " dropout_4 (Dropout)         (None, 128)               0         \n",
      "                                                                 \n",
      " dense_4 (Dense)             (None, 128)               16512     \n",
      "                                                                 \n",
      " dropout_5 (Dropout)         (None, 128)               0         \n",
      "                                                                 \n",
      " dense_5 (Dense)             (None, 64)                8256      \n",
      "                                                                 \n",
      " dense_6 (Dense)             (None, 3)                 195       \n",
      "                                                                 \n",
      "=================================================================\n",
      "Total params: 1,298,179\n",
      "Trainable params: 1,298,179\n",
      "Non-trainable params: 0\n",
      "_________________________________________________________________\n"
     ]
    }
   ],
   "source": [
    "model.summary()"
   ]
  },
  {
   "cell_type": "code",
   "execution_count": 23,
   "id": "49a588e9",
   "metadata": {},
   "outputs": [
    {
     "name": "stdout",
     "output_type": "stream",
     "text": [
      "Epoch 1/20\n",
      "102/102 [==============================] - 14s 140ms/step - loss: 0.5954 - accuracy: 0.7075 - val_loss: 0.7739 - val_accuracy: 0.5412\n",
      "Epoch 2/20\n",
      "102/102 [==============================] - 16s 161ms/step - loss: 0.5691 - accuracy: 0.7222 - val_loss: 0.7122 - val_accuracy: 0.5882\n",
      "Epoch 3/20\n",
      "102/102 [==============================] - 16s 156ms/step - loss: 0.5532 - accuracy: 0.7225 - val_loss: 0.6936 - val_accuracy: 0.6588\n",
      "Epoch 4/20\n",
      "102/102 [==============================] - 16s 155ms/step - loss: 0.5598 - accuracy: 0.7398 - val_loss: 0.7137 - val_accuracy: 0.6824\n",
      "Epoch 5/20\n",
      "102/102 [==============================] - 17s 165ms/step - loss: 0.5285 - accuracy: 0.7416 - val_loss: 0.7356 - val_accuracy: 0.6824\n",
      "Epoch 6/20\n",
      "102/102 [==============================] - 16s 154ms/step - loss: 0.5244 - accuracy: 0.7647 - val_loss: 0.7327 - val_accuracy: 0.6118\n",
      "Epoch 7/20\n",
      "102/102 [==============================] - 16s 160ms/step - loss: 0.5039 - accuracy: 0.7758 - val_loss: 0.8089 - val_accuracy: 0.5529\n",
      "Epoch 8/20\n",
      "102/102 [==============================] - 17s 167ms/step - loss: 0.5455 - accuracy: 0.7456 - val_loss: 0.7726 - val_accuracy: 0.6353\n",
      "Epoch 9/20\n",
      "102/102 [==============================] - 16s 151ms/step - loss: 0.4888 - accuracy: 0.7776 - val_loss: 0.6801 - val_accuracy: 0.7412\n",
      "Epoch 10/20\n",
      "102/102 [==============================] - 17s 162ms/step - loss: 0.5075 - accuracy: 0.7733 - val_loss: 0.6686 - val_accuracy: 0.8000\n",
      "Epoch 11/20\n",
      "102/102 [==============================] - 20s 191ms/step - loss: 0.4975 - accuracy: 0.7948 - val_loss: 0.7861 - val_accuracy: 0.6353\n",
      "Epoch 12/20\n",
      "102/102 [==============================] - 21s 203ms/step - loss: 0.4991 - accuracy: 0.7831 - val_loss: 0.7004 - val_accuracy: 0.6235\n",
      "Epoch 13/20\n",
      "102/102 [==============================] - 18s 176ms/step - loss: 0.4609 - accuracy: 0.8084 - val_loss: 0.6721 - val_accuracy: 0.6706\n",
      "Epoch 14/20\n",
      "102/102 [==============================] - 19s 189ms/step - loss: 0.4690 - accuracy: 0.8084 - val_loss: 0.7078 - val_accuracy: 0.7412\n",
      "Epoch 15/20\n",
      "102/102 [==============================] - 21s 207ms/step - loss: 0.4528 - accuracy: 0.8216 - val_loss: 0.7245 - val_accuracy: 0.7529\n",
      "Epoch 16/20\n",
      "102/102 [==============================] - 24s 233ms/step - loss: 0.4600 - accuracy: 0.8124 - val_loss: 0.6333 - val_accuracy: 0.7765\n",
      "Epoch 17/20\n",
      "102/102 [==============================] - 18s 177ms/step - loss: 0.4147 - accuracy: 0.8367 - val_loss: 0.5146 - val_accuracy: 0.8353\n",
      "Epoch 18/20\n",
      "102/102 [==============================] - 22s 220ms/step - loss: 0.3838 - accuracy: 0.8560 - val_loss: 0.8457 - val_accuracy: 0.6118\n",
      "Epoch 19/20\n",
      "102/102 [==============================] - 19s 181ms/step - loss: 0.4319 - accuracy: 0.8250 - val_loss: 0.5550 - val_accuracy: 0.7882\n",
      "Epoch 20/20\n",
      "102/102 [==============================] - 17s 166ms/step - loss: 0.4011 - accuracy: 0.8477 - val_loss: 0.5112 - val_accuracy: 0.8118\n"
     ]
    }
   ],
   "source": [
    "history=model.fit(x=train_set,validation_data=test_set,epochs=20)"
   ]
  },
  {
   "cell_type": "code",
   "execution_count": 24,
   "id": "e7243619",
   "metadata": {},
   "outputs": [],
   "source": [
    "model.save('pt.h5')"
   ]
  },
  {
   "cell_type": "code",
   "execution_count": 25,
   "id": "45a4a8b2",
   "metadata": {},
   "outputs": [
    {
     "name": "stdout",
     "output_type": "stream",
     "text": [
      "3/3 [==============================] - 0s 73ms/step - loss: 0.5177 - accuracy: 0.7765\n"
     ]
    }
   ],
   "source": [
    "scores=model.evaluate(test_set)"
   ]
  },
  {
   "cell_type": "code",
   "execution_count": 26,
   "id": "b92edcb0",
   "metadata": {},
   "outputs": [
    {
     "data": {
      "text/plain": [
       "[0.517716109752655, 0.7764706015586853]"
      ]
     },
     "execution_count": 26,
     "metadata": {},
     "output_type": "execute_result"
    }
   ],
   "source": [
    "scores"
   ]
  },
  {
   "cell_type": "code",
   "execution_count": 27,
   "id": "2b9fca16",
   "metadata": {},
   "outputs": [
    {
     "data": {
      "text/plain": [
       "{'verbose': 1, 'epochs': 20, 'steps': 102}"
      ]
     },
     "execution_count": 27,
     "metadata": {},
     "output_type": "execute_result"
    }
   ],
   "source": [
    "history.params"
   ]
  },
  {
   "cell_type": "code",
   "execution_count": 28,
   "id": "b8fb5164",
   "metadata": {},
   "outputs": [],
   "source": [
    "acc=history.history['accuracy']\n",
    "val_acc=history.history['val_accuracy']\n",
    "loss=history.history['loss']\n",
    "val_loss=history.history['val_loss']"
   ]
  },
  {
   "cell_type": "code",
   "execution_count": 30,
   "id": "a5c63c8b",
   "metadata": {},
   "outputs": [
    {
     "data": {
      "text/plain": [
       "Text(0.5, 1.0, 'Training and Validation loss')"
      ]
     },
     "execution_count": 30,
     "metadata": {},
     "output_type": "execute_result"
    },
    {
     "data": {
      "image/png": "[encoded data removed]",
      "text/plain": [
       "<Figure size 800x800 with 2 Axes>"
      ]
     },
     "metadata": {},
     "output_type": "display_data"
    }
   ],
   "source": [
    "epochs=20\n",
    "plt.figure(figsize=(8,8))\n",
    "plt.subplot(1,2,1)\n",
    "plt.plot(range(epochs),acc,label='Training_accuracy')\n",
    "plt.plot(range(epochs),val_acc,label='val_accuracy')\n",
    "plt.legend(loc='lower right')\n",
    "plt.title(\"Training and Validation Accuracy\")\n",
    "\n",
    "\n",
    "plt.subplot(1,2,2)\n",
    "plt.plot(range(epochs),loss,label='Training_loss')\n",
    "plt.plot(range(epochs),val_loss,label='val_loss')\n",
    "plt.legend(loc='lower right')\n",
    "plt.title(\"Training and Validation loss\")\n",
    "\n",
    "\n",
    "\n",
    "\n"
   ]
  },
  {
   "cell_type": "code",
   "execution_count": 6,
   "id": "fa5eee6b",
   "metadata": {},
   "outputs": [],
   "source": [
    "model=load_model('pt.h5')"
   ]
  },
  {
   "cell_type": "code",
   "execution_count": 31,
   "id": "9d378fa9",
   "metadata": {},
   "outputs": [
    {
     "name": "stdout",
     "output_type": "stream",
     "text": [
      "1/1 [==============================] - 0s 18ms/step\n"
     ]
    },
    {
     "data": {
      "text/plain": [
       "{'Early_Blight': 0, 'Healthy': 1, 'Late_Blight': 2}"
      ]
     },
     "execution_count": 31,
     "metadata": {},
     "output_type": "execute_result"
    }
   ],
   "source": [
    "from tensorflow.keras.preprocessing import image\n",
    "test_image=image.load_img('/media/revanth/Data/flask/FlaskApp/static/static_images/late_blight.JPG',target_size=(64,64))\n",
    "test_image=image.img_to_array(test_image)\n",
    "test_image=np.expand_dims(test_image,axis=0)\n",
    "result=model.predict(test_image)\n",
    "train_set.class_indices\n"
   ]
  },
  {
   "cell_type": "code",
   "execution_count": 32,
   "id": "ef4ece3f",
   "metadata": {},
   "outputs": [
    {
     "data": {
      "text/plain": [
       "array([[1.0126494e-01, 6.7318993e-04, 8.9806187e-01]], dtype=float32)"
      ]
     },
     "execution_count": 32,
     "metadata": {},
     "output_type": "execute_result"
    }
   ],
   "source": [
    "result"
   ]
  },
  {
   "cell_type": "code",
   "execution_count": 33,
   "id": "f6bc8561",
   "metadata": {},
   "outputs": [],
   "source": [
    "a=np.argmax(result)"
   ]
  },
  {
   "cell_type": "code",
   "execution_count": 34,
   "id": "982d0449",
   "metadata": {},
   "outputs": [
    {
     "data": {
      "text/plain": [
       "2"
      ]
     },
     "execution_count": 34,
     "metadata": {},
     "output_type": "execute_result"
    }
   ],
   "source": [
    "a"
   ]
  },
  {
   "cell_type": "code",
   "execution_count": 35,
   "id": "47fd3864",
   "metadata": {},
   "outputs": [
    {
     "name": "stdout",
     "output_type": "stream",
     "text": [
      "Late blight\n"
     ]
    }
   ],
   "source": [
    "if a==0:\n",
    "    print(\"Early_bloght\")\n",
    "if a==1:\n",
    "    print(\"healty\")\n",
    "else:\n",
    "    print(\"Late blight\")"
   ]
  },
  {
   "cell_type": "code",
   "execution_count": null,
   "id": "396636ae",
   "metadata": {},
   "outputs": [],
   "source": []
  }
 ],
 "metadata": {
  "kernelspec": {
   "display_name": "Python 3 (ipykernel)",
   "language": "python",
   "name": "python3"
  },
  "language_info": {
   "codemirror_mode": {
    "name": "ipython",
    "version": 3
   },
   "file_extension": ".py",
   "mimetype": "text/x-python",
   "name": "python",
   "nbconvert_exporter": "python",
   "pygments_lexer": "ipython3",
   "version": "3.9.13"
  }
 },
 "nbformat": 4,
 "nbformat_minor": 5
}
